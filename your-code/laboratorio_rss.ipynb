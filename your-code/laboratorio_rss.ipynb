{
 "cells": [
  {
   "cell_type": "markdown",
   "metadata": {},
   "source": [
    "# Working with RSS Feeds Lab\n",
    "\n",
    "Complete the following set of exercises to solidify your knowledge of parsing RSS feeds and extracting information from them."
   ]
  },
  {
   "cell_type": "code",
   "execution_count": 4,
   "metadata": {},
   "outputs": [],
   "source": [
    "import feedparser"
   ]
  },
  {
   "cell_type": "markdown",
   "metadata": {},
   "source": [
    "### 1. Use feedparser to parse the following RSS feed URL."
   ]
  },
  {
   "cell_type": "code",
   "execution_count": 5,
   "metadata": {},
   "outputs": [
    {
     "name": "stdout",
     "output_type": "stream",
     "text": [
      "Requirement already satisfied: feedparser in c:\\users\\hp\\anaconda3\\lib\\site-packages (6.0.11)\n",
      "Requirement already satisfied: sgmllib3k in c:\\users\\hp\\anaconda3\\lib\\site-packages (from feedparser) (1.0.0)\n",
      "Note: you may need to restart the kernel to use updated packages.\n"
     ]
    }
   ],
   "source": [
    "#pip install feedparser"
   ]
  },
  {
   "cell_type": "code",
   "execution_count": 6,
   "metadata": {},
   "outputs": [],
   "source": [
    "reddit = feedparser.parse('https://www.reddit.com/r/news/.rss')"
   ]
  },
  {
   "cell_type": "markdown",
   "metadata": {},
   "source": [
    "### 2. Obtain a list of components (keys) that are available for this feed."
   ]
  },
  {
   "cell_type": "code",
   "execution_count": 7,
   "metadata": {},
   "outputs": [
    {
     "data": {
      "text/plain": [
       "dict_keys(['bozo', 'entries', 'feed', 'headers', 'href', 'status', 'encoding', 'version', 'namespaces'])"
      ]
     },
     "execution_count": 7,
     "metadata": {},
     "output_type": "execute_result"
    }
   ],
   "source": [
    "reddit.keys()"
   ]
  },
  {
   "cell_type": "markdown",
   "metadata": {},
   "source": [
    "### 3. Obtain a list of components (keys) that are available for the *feed* component of this RSS feed."
   ]
  },
  {
   "cell_type": "code",
   "execution_count": 12,
   "metadata": {},
   "outputs": [
    {
     "data": {
      "text/plain": [
       "{'authors': [{'name': '/u/DairyFarmerOnCrack',\n",
       "   'href': 'https://www.reddit.com/user/DairyFarmerOnCrack'}],\n",
       " 'author_detail': {'name': '/u/DairyFarmerOnCrack',\n",
       "  'href': 'https://www.reddit.com/user/DairyFarmerOnCrack'},\n",
       " 'href': 'https://www.reddit.com/user/DairyFarmerOnCrack',\n",
       " 'author': '/u/DairyFarmerOnCrack',\n",
       " 'tags': [{'term': 'news', 'scheme': None, 'label': 'r/news'}],\n",
       " 'content': [{'type': 'text/html',\n",
       "   'language': None,\n",
       "   'base': 'https://www.reddit.com/r/news/.rss',\n",
       "   'value': '&#32; submitted by &#32; <a href=\"https://www.reddit.com/user/DairyFarmerOnCrack\"> /u/DairyFarmerOnCrack </a> <br /> <span><a href=\"https://www.cbsnews.com/news/carbon-dioxide-levels-surging-faster-than-ever-noaa-scientists/\">[link]</a></span> &#32; <span><a href=\"https://www.reddit.com/r/news/comments/1dbj2g7/carbon_dioxide_levels_in_the_atmosphere_are/\">[comments]</a></span>'}],\n",
       " 'summary': '&#32; submitted by &#32; <a href=\"https://www.reddit.com/user/DairyFarmerOnCrack\"> /u/DairyFarmerOnCrack </a> <br /> <span><a href=\"https://www.cbsnews.com/news/carbon-dioxide-levels-surging-faster-than-ever-noaa-scientists/\">[link]</a></span> &#32; <span><a href=\"https://www.reddit.com/r/news/comments/1dbj2g7/carbon_dioxide_levels_in_the_atmosphere_are/\">[comments]</a></span>',\n",
       " 'id': 'https://www.reddit.com/r/news/t3_1dbj2g7',\n",
       " 'guidislink': True,\n",
       " 'link': 'https://www.reddit.com/r/news/comments/1dbj2g7/carbon_dioxide_levels_in_the_atmosphere_are/',\n",
       " 'links': [{'href': 'https://www.reddit.com/r/news/comments/1dbj2g7/carbon_dioxide_levels_in_the_atmosphere_are/',\n",
       "   'rel': 'alternate',\n",
       "   'type': 'text/html'}],\n",
       " 'updated': '2024-06-09T02:17:57+00:00',\n",
       " 'updated_parsed': time.struct_time(tm_year=2024, tm_mon=6, tm_mday=9, tm_hour=2, tm_min=17, tm_sec=57, tm_wday=6, tm_yday=161, tm_isdst=0),\n",
       " 'published': '2024-06-09T02:17:57+00:00',\n",
       " 'published_parsed': time.struct_time(tm_year=2024, tm_mon=6, tm_mday=9, tm_hour=2, tm_min=17, tm_sec=57, tm_wday=6, tm_yday=161, tm_isdst=0),\n",
       " 'title': 'Carbon dioxide levels in the atmosphere are surging \"faster than ever\" to beyond anything humans ever experienced, officials say',\n",
       " 'title_detail': {'type': 'text/plain',\n",
       "  'language': None,\n",
       "  'base': 'https://www.reddit.com/r/news/.rss',\n",
       "  'value': 'Carbon dioxide levels in the atmosphere are surging \"faster than ever\" to beyond anything humans ever experienced, officials say'}}"
      ]
     },
     "execution_count": 12,
     "metadata": {},
     "output_type": "execute_result"
    }
   ],
   "source": [
    "reddit['entries'][0]"
   ]
  },
  {
   "cell_type": "code",
   "execution_count": 13,
   "metadata": {},
   "outputs": [
    {
     "data": {
      "text/plain": [
       "dict_keys(['authors', 'author_detail', 'href', 'author', 'tags', 'content', 'summary', 'id', 'guidislink', 'link', 'links', 'updated', 'updated_parsed', 'published', 'published_parsed', 'title', 'title_detail'])"
      ]
     },
     "execution_count": 13,
     "metadata": {},
     "output_type": "execute_result"
    }
   ],
   "source": [
    "reddit['entries'][0].keys()"
   ]
  },
  {
   "cell_type": "markdown",
   "metadata": {},
   "source": [
    "### 4. Extract and print the feed title, subtitle, author, and link."
   ]
  },
  {
   "cell_type": "code",
   "execution_count": 8,
   "metadata": {},
   "outputs": [],
   "source": [
    "import pandas as pd"
   ]
  },
  {
   "cell_type": "code",
   "execution_count": 9,
   "metadata": {},
   "outputs": [
    {
     "data": {
      "text/html": [
       "<div>\n",
       "<style scoped>\n",
       "    .dataframe tbody tr th:only-of-type {\n",
       "        vertical-align: middle;\n",
       "    }\n",
       "\n",
       "    .dataframe tbody tr th {\n",
       "        vertical-align: top;\n",
       "    }\n",
       "\n",
       "    .dataframe thead th {\n",
       "        text-align: right;\n",
       "    }\n",
       "</style>\n",
       "<table border=\"1\" class=\"dataframe\">\n",
       "  <thead>\n",
       "    <tr style=\"text-align: right;\">\n",
       "      <th></th>\n",
       "      <th>authors</th>\n",
       "      <th>author_detail</th>\n",
       "      <th>href</th>\n",
       "      <th>author</th>\n",
       "      <th>tags</th>\n",
       "      <th>content</th>\n",
       "      <th>summary</th>\n",
       "      <th>id</th>\n",
       "      <th>guidislink</th>\n",
       "      <th>link</th>\n",
       "      <th>links</th>\n",
       "      <th>updated</th>\n",
       "      <th>updated_parsed</th>\n",
       "      <th>published</th>\n",
       "      <th>published_parsed</th>\n",
       "      <th>title</th>\n",
       "      <th>title_detail</th>\n",
       "    </tr>\n",
       "  </thead>\n",
       "  <tbody>\n",
       "    <tr>\n",
       "      <th>0</th>\n",
       "      <td>[{'name': '/u/DairyFarmerOnCrack', 'href': 'ht...</td>\n",
       "      <td>{'name': '/u/DairyFarmerOnCrack', 'href': 'htt...</td>\n",
       "      <td>https://www.reddit.com/user/DairyFarmerOnCrack</td>\n",
       "      <td>/u/DairyFarmerOnCrack</td>\n",
       "      <td>[{'term': 'news', 'scheme': None, 'label': 'r/...</td>\n",
       "      <td>[{'type': 'text/html', 'language': None, 'base...</td>\n",
       "      <td>&amp;#32; submitted by &amp;#32; &lt;a href=\"https://www....</td>\n",
       "      <td>https://www.reddit.com/r/news/t3_1dbj2g7</td>\n",
       "      <td>True</td>\n",
       "      <td>https://www.reddit.com/r/news/comments/1dbj2g7...</td>\n",
       "      <td>[{'href': 'https://www.reddit.com/r/news/comme...</td>\n",
       "      <td>2024-06-09T02:17:57+00:00</td>\n",
       "      <td>(2024, 6, 9, 2, 17, 57, 6, 161, 0)</td>\n",
       "      <td>2024-06-09T02:17:57+00:00</td>\n",
       "      <td>(2024, 6, 9, 2, 17, 57, 6, 161, 0)</td>\n",
       "      <td>Carbon dioxide levels in the atmosphere are su...</td>\n",
       "      <td>{'type': 'text/plain', 'language': None, 'base...</td>\n",
       "    </tr>\n",
       "    <tr>\n",
       "      <th>1</th>\n",
       "      <td>[{'name': '/u/McCree114', 'href': 'https://www...</td>\n",
       "      <td>{'name': '/u/McCree114', 'href': 'https://www....</td>\n",
       "      <td>https://www.reddit.com/user/McCree114</td>\n",
       "      <td>/u/McCree114</td>\n",
       "      <td>[{'term': 'news', 'scheme': None, 'label': 'r/...</td>\n",
       "      <td>[{'type': 'text/html', 'language': None, 'base...</td>\n",
       "      <td>&amp;#32; submitted by &amp;#32; &lt;a href=\"https://www....</td>\n",
       "      <td>https://www.reddit.com/r/news/t3_1dbeuub</td>\n",
       "      <td>True</td>\n",
       "      <td>https://www.reddit.com/r/news/comments/1dbeuub...</td>\n",
       "      <td>[{'href': 'https://www.reddit.com/r/news/comme...</td>\n",
       "      <td>2024-06-08T22:42:35+00:00</td>\n",
       "      <td>(2024, 6, 8, 22, 42, 35, 5, 160, 0)</td>\n",
       "      <td>2024-06-08T22:42:35+00:00</td>\n",
       "      <td>(2024, 6, 8, 22, 42, 35, 5, 160, 0)</td>\n",
       "      <td>Phoenix turns to ice-filled body bags to treat...</td>\n",
       "      <td>{'type': 'text/plain', 'language': None, 'base...</td>\n",
       "    </tr>\n",
       "    <tr>\n",
       "      <th>2</th>\n",
       "      <td>[{'name': '/u/71kangaroo', 'href': 'https://ww...</td>\n",
       "      <td>{'name': '/u/71kangaroo', 'href': 'https://www...</td>\n",
       "      <td>https://www.reddit.com/user/71kangaroo</td>\n",
       "      <td>/u/71kangaroo</td>\n",
       "      <td>[{'term': 'news', 'scheme': None, 'label': 'r/...</td>\n",
       "      <td>[{'type': 'text/html', 'language': None, 'base...</td>\n",
       "      <td>&amp;#32; submitted by &amp;#32; &lt;a href=\"https://www....</td>\n",
       "      <td>https://www.reddit.com/r/news/t3_1dboykr</td>\n",
       "      <td>True</td>\n",
       "      <td>https://www.reddit.com/r/news/comments/1dboykr...</td>\n",
       "      <td>[{'href': 'https://www.reddit.com/r/news/comme...</td>\n",
       "      <td>2024-06-09T08:25:14+00:00</td>\n",
       "      <td>(2024, 6, 9, 8, 25, 14, 6, 161, 0)</td>\n",
       "      <td>2024-06-09T08:25:14+00:00</td>\n",
       "      <td>(2024, 6, 9, 8, 25, 14, 6, 161, 0)</td>\n",
       "      <td>Michael Mosley: body found in search for missi...</td>\n",
       "      <td>{'type': 'text/plain', 'language': None, 'base...</td>\n",
       "    </tr>\n",
       "    <tr>\n",
       "      <th>3</th>\n",
       "      <td>[{'name': '/u/SoDakZak', 'href': 'https://www....</td>\n",
       "      <td>{'name': '/u/SoDakZak', 'href': 'https://www.r...</td>\n",
       "      <td>https://www.reddit.com/user/SoDakZak</td>\n",
       "      <td>/u/SoDakZak</td>\n",
       "      <td>[{'term': 'news', 'scheme': None, 'label': 'r/...</td>\n",
       "      <td>[{'type': 'text/html', 'language': None, 'base...</td>\n",
       "      <td>&amp;#32; submitted by &amp;#32; &lt;a href=\"https://www....</td>\n",
       "      <td>https://www.reddit.com/r/news/t3_1dbisfi</td>\n",
       "      <td>True</td>\n",
       "      <td>https://www.reddit.com/r/news/comments/1dbisfi...</td>\n",
       "      <td>[{'href': 'https://www.reddit.com/r/news/comme...</td>\n",
       "      <td>2024-06-09T02:03:02+00:00</td>\n",
       "      <td>(2024, 6, 9, 2, 3, 2, 6, 161, 0)</td>\n",
       "      <td>2024-06-09T02:03:02+00:00</td>\n",
       "      <td>(2024, 6, 9, 2, 3, 2, 6, 161, 0)</td>\n",
       "      <td>Purported neo-Nazis rally at South Dakota Stat...</td>\n",
       "      <td>{'type': 'text/plain', 'language': None, 'base...</td>\n",
       "    </tr>\n",
       "    <tr>\n",
       "      <th>4</th>\n",
       "      <td>[{'name': '/u/WhileFalseRepeat', 'href': 'http...</td>\n",
       "      <td>{'name': '/u/WhileFalseRepeat', 'href': 'https...</td>\n",
       "      <td>https://www.reddit.com/user/WhileFalseRepeat</td>\n",
       "      <td>/u/WhileFalseRepeat</td>\n",
       "      <td>[{'term': 'news', 'scheme': None, 'label': 'r/...</td>\n",
       "      <td>[{'type': 'text/html', 'language': None, 'base...</td>\n",
       "      <td>&amp;#32; submitted by &amp;#32; &lt;a href=\"https://www....</td>\n",
       "      <td>https://www.reddit.com/r/news/t3_1dbgfws</td>\n",
       "      <td>True</td>\n",
       "      <td>https://www.reddit.com/r/news/comments/1dbgfws...</td>\n",
       "      <td>[{'href': 'https://www.reddit.com/r/news/comme...</td>\n",
       "      <td>2024-06-08T23:59:06+00:00</td>\n",
       "      <td>(2024, 6, 8, 23, 59, 6, 5, 160, 0)</td>\n",
       "      <td>2024-06-08T23:59:06+00:00</td>\n",
       "      <td>(2024, 6, 8, 23, 59, 6, 5, 160, 0)</td>\n",
       "      <td>Vancouver's nude beach users decry removal of ...</td>\n",
       "      <td>{'type': 'text/plain', 'language': None, 'base...</td>\n",
       "    </tr>\n",
       "  </tbody>\n",
       "</table>\n",
       "</div>"
      ],
      "text/plain": [
       "                                             authors  \\\n",
       "0  [{'name': '/u/DairyFarmerOnCrack', 'href': 'ht...   \n",
       "1  [{'name': '/u/McCree114', 'href': 'https://www...   \n",
       "2  [{'name': '/u/71kangaroo', 'href': 'https://ww...   \n",
       "3  [{'name': '/u/SoDakZak', 'href': 'https://www....   \n",
       "4  [{'name': '/u/WhileFalseRepeat', 'href': 'http...   \n",
       "\n",
       "                                       author_detail  \\\n",
       "0  {'name': '/u/DairyFarmerOnCrack', 'href': 'htt...   \n",
       "1  {'name': '/u/McCree114', 'href': 'https://www....   \n",
       "2  {'name': '/u/71kangaroo', 'href': 'https://www...   \n",
       "3  {'name': '/u/SoDakZak', 'href': 'https://www.r...   \n",
       "4  {'name': '/u/WhileFalseRepeat', 'href': 'https...   \n",
       "\n",
       "                                             href                 author  \\\n",
       "0  https://www.reddit.com/user/DairyFarmerOnCrack  /u/DairyFarmerOnCrack   \n",
       "1           https://www.reddit.com/user/McCree114           /u/McCree114   \n",
       "2          https://www.reddit.com/user/71kangaroo          /u/71kangaroo   \n",
       "3            https://www.reddit.com/user/SoDakZak            /u/SoDakZak   \n",
       "4    https://www.reddit.com/user/WhileFalseRepeat    /u/WhileFalseRepeat   \n",
       "\n",
       "                                                tags  \\\n",
       "0  [{'term': 'news', 'scheme': None, 'label': 'r/...   \n",
       "1  [{'term': 'news', 'scheme': None, 'label': 'r/...   \n",
       "2  [{'term': 'news', 'scheme': None, 'label': 'r/...   \n",
       "3  [{'term': 'news', 'scheme': None, 'label': 'r/...   \n",
       "4  [{'term': 'news', 'scheme': None, 'label': 'r/...   \n",
       "\n",
       "                                             content  \\\n",
       "0  [{'type': 'text/html', 'language': None, 'base...   \n",
       "1  [{'type': 'text/html', 'language': None, 'base...   \n",
       "2  [{'type': 'text/html', 'language': None, 'base...   \n",
       "3  [{'type': 'text/html', 'language': None, 'base...   \n",
       "4  [{'type': 'text/html', 'language': None, 'base...   \n",
       "\n",
       "                                             summary  \\\n",
       "0  &#32; submitted by &#32; <a href=\"https://www....   \n",
       "1  &#32; submitted by &#32; <a href=\"https://www....   \n",
       "2  &#32; submitted by &#32; <a href=\"https://www....   \n",
       "3  &#32; submitted by &#32; <a href=\"https://www....   \n",
       "4  &#32; submitted by &#32; <a href=\"https://www....   \n",
       "\n",
       "                                         id  guidislink  \\\n",
       "0  https://www.reddit.com/r/news/t3_1dbj2g7        True   \n",
       "1  https://www.reddit.com/r/news/t3_1dbeuub        True   \n",
       "2  https://www.reddit.com/r/news/t3_1dboykr        True   \n",
       "3  https://www.reddit.com/r/news/t3_1dbisfi        True   \n",
       "4  https://www.reddit.com/r/news/t3_1dbgfws        True   \n",
       "\n",
       "                                                link  \\\n",
       "0  https://www.reddit.com/r/news/comments/1dbj2g7...   \n",
       "1  https://www.reddit.com/r/news/comments/1dbeuub...   \n",
       "2  https://www.reddit.com/r/news/comments/1dboykr...   \n",
       "3  https://www.reddit.com/r/news/comments/1dbisfi...   \n",
       "4  https://www.reddit.com/r/news/comments/1dbgfws...   \n",
       "\n",
       "                                               links  \\\n",
       "0  [{'href': 'https://www.reddit.com/r/news/comme...   \n",
       "1  [{'href': 'https://www.reddit.com/r/news/comme...   \n",
       "2  [{'href': 'https://www.reddit.com/r/news/comme...   \n",
       "3  [{'href': 'https://www.reddit.com/r/news/comme...   \n",
       "4  [{'href': 'https://www.reddit.com/r/news/comme...   \n",
       "\n",
       "                     updated                       updated_parsed  \\\n",
       "0  2024-06-09T02:17:57+00:00   (2024, 6, 9, 2, 17, 57, 6, 161, 0)   \n",
       "1  2024-06-08T22:42:35+00:00  (2024, 6, 8, 22, 42, 35, 5, 160, 0)   \n",
       "2  2024-06-09T08:25:14+00:00   (2024, 6, 9, 8, 25, 14, 6, 161, 0)   \n",
       "3  2024-06-09T02:03:02+00:00     (2024, 6, 9, 2, 3, 2, 6, 161, 0)   \n",
       "4  2024-06-08T23:59:06+00:00   (2024, 6, 8, 23, 59, 6, 5, 160, 0)   \n",
       "\n",
       "                   published                     published_parsed  \\\n",
       "0  2024-06-09T02:17:57+00:00   (2024, 6, 9, 2, 17, 57, 6, 161, 0)   \n",
       "1  2024-06-08T22:42:35+00:00  (2024, 6, 8, 22, 42, 35, 5, 160, 0)   \n",
       "2  2024-06-09T08:25:14+00:00   (2024, 6, 9, 8, 25, 14, 6, 161, 0)   \n",
       "3  2024-06-09T02:03:02+00:00     (2024, 6, 9, 2, 3, 2, 6, 161, 0)   \n",
       "4  2024-06-08T23:59:06+00:00   (2024, 6, 8, 23, 59, 6, 5, 160, 0)   \n",
       "\n",
       "                                               title  \\\n",
       "0  Carbon dioxide levels in the atmosphere are su...   \n",
       "1  Phoenix turns to ice-filled body bags to treat...   \n",
       "2  Michael Mosley: body found in search for missi...   \n",
       "3  Purported neo-Nazis rally at South Dakota Stat...   \n",
       "4  Vancouver's nude beach users decry removal of ...   \n",
       "\n",
       "                                        title_detail  \n",
       "0  {'type': 'text/plain', 'language': None, 'base...  \n",
       "1  {'type': 'text/plain', 'language': None, 'base...  \n",
       "2  {'type': 'text/plain', 'language': None, 'base...  \n",
       "3  {'type': 'text/plain', 'language': None, 'base...  \n",
       "4  {'type': 'text/plain', 'language': None, 'base...  "
      ]
     },
     "execution_count": 9,
     "metadata": {},
     "output_type": "execute_result"
    }
   ],
   "source": [
    "pd.DataFrame(reddit['entries']).head()"
   ]
  },
  {
   "cell_type": "markdown",
   "metadata": {},
   "source": [
    "### 5. Count the number of entries that are contained in this RSS feed."
   ]
  },
  {
   "cell_type": "code",
   "execution_count": 10,
   "metadata": {},
   "outputs": [
    {
     "data": {
      "text/plain": [
       "'2024-06-09T08:25:14+00:00'"
      ]
     },
     "execution_count": 10,
     "metadata": {},
     "output_type": "execute_result"
    }
   ],
   "source": [
    "pd.DataFrame(reddit['entries'])['published'].max()"
   ]
  },
  {
   "cell_type": "markdown",
   "metadata": {},
   "source": [
    "### 6. Obtain a list of components (keys) available for an entry.\n",
    "\n",
    "*Hint: Remember to index first before requesting the keys*"
   ]
  },
  {
   "cell_type": "code",
   "execution_count": 11,
   "metadata": {},
   "outputs": [],
   "source": [
    "entry_keys = reddit['entries'][0].keys()"
   ]
  },
  {
   "cell_type": "markdown",
   "metadata": {},
   "source": [
    "### 7. Extract a list of entry titles."
   ]
  },
  {
   "cell_type": "code",
   "execution_count": 14,
   "metadata": {},
   "outputs": [
    {
     "name": "stdout",
     "output_type": "stream",
     "text": [
      "['Carbon dioxide levels in the atmosphere are surging \"faster than ever\" to beyond anything humans ever experienced, officials say', 'Phoenix turns to ice-filled body bags to treat heatstroke as US south-west bakes', 'Michael Mosley: body found in search for missing TV doctor', 'Purported neo-Nazis rally at South Dakota State Capitol, march around Pierre', \"Vancouver's nude beach users decry removal of 'privacy' logs\", 'Four hostages rescued from Gaza, as hospitals say scores killed in Israeli strikes', 'Cleveland Mississippi Country Club refuses woman entry in event', \"Oregon closes more coastal shellfish harvesting due to 'historic high levels' of toxins\", 'New Mexico Police Arrest An 11-Year-Old Boy On Allegations Of A Month Long Crime Spree.', 'The Army-Navy Gaza aid pier is back in the beach', 'Israel says 4 hostages, including Noa Argamani, rescued in Gaza operation', 'Scientists map one of Earth’s top hazards in the Pacific Northwest', 'Former astronaut William Anders, who took iconic Earthrise photo, has died in Washington plane crash', 'US Supreme Court justices disclose Bali hotel stay, Beyoncé tickets, book deals', \"Pat Sajak takes final spin as host on 'Wheel of Fortune' after 41 years\", 'Bag of cash doesn’t stop jurors from convicting 5 of 7 defendants in $40 million food fraud scheme', 'Man, 71, arrested after LAPD finds nearly 3,000 boxes of stolen LEGO sets at his home', 'Rare Brown Booby bird sighting in southern Indiana ruffles feathers at state park', 'Netflix to fight $170 million damages claim over ‘Baby Reindeer’ | CNN Business', 'Russian navy vessels to dock in Havana, Cuba insists no threat', 'Jobs report blows past expectations, displaying resilient strength of US economy', 'U.S. Coast Guard seizes over $63 million worth of cocaine, some from shootout at sea that sank vessel', 'Connecticut town to pay $100K to settle lawsuit after teacher showed Kendrick Lamar video in school', 'Three Americans in alleged coup attempt appear in Congo military court', 'Vermont police department apologizes after visiting students witness simulated robbery, shooting']\n"
     ]
    }
   ],
   "source": [
    "# Crear una lista para almacenar los títulos\n",
    "titles = []\n",
    "\n",
    "# Iterar sobre cada entrada y extraer el título\n",
    "for entry in reddit['entries']:\n",
    "    title = entry['title']\n",
    "    titles.append(title)\n",
    "\n",
    "# Imprimir la lista de títulos\n",
    "print(titles)"
   ]
  },
  {
   "cell_type": "markdown",
   "metadata": {},
   "source": [
    "### 8. Calculate the percentage of \"Four short links\" entry titles."
   ]
  },
  {
   "cell_type": "code",
   "execution_count": 15,
   "metadata": {},
   "outputs": [
    {
     "name": "stdout",
     "output_type": "stream",
     "text": [
      "El porcentaje de títulos que contienen 'Cuatro enlaces cortos' es: 0.00%\n"
     ]
    }
   ],
   "source": [
    "# Inicializar el contador para los títulos que contienen la frase\n",
    "count = 0\n",
    "\n",
    "for title in titles:\n",
    "    if \"Cuatro enlaces cortos\" in title:\n",
    "        count += 1\n",
    "\n",
    "# Calcular el porcentaje\n",
    "percentage = (count / len(titles)) * 100\n",
    "\n",
    "\n",
    "print(f\"El porcentaje de títulos que contienen 'Cuatro enlaces cortos' es: {percentage:.2f}%\")\n"
   ]
  },
  {
   "cell_type": "markdown",
   "metadata": {},
   "source": [
    "### 9. Create a Pandas data frame from the feed's entries."
   ]
  },
  {
   "cell_type": "code",
   "execution_count": 16,
   "metadata": {},
   "outputs": [
    {
     "name": "stdout",
     "output_type": "stream",
     "text": [
      "                                             authors  \\\n",
      "0  [{'name': '/u/DairyFarmerOnCrack', 'href': 'ht...   \n",
      "1  [{'name': '/u/McCree114', 'href': 'https://www...   \n",
      "2  [{'name': '/u/71kangaroo', 'href': 'https://ww...   \n",
      "3  [{'name': '/u/SoDakZak', 'href': 'https://www....   \n",
      "4  [{'name': '/u/WhileFalseRepeat', 'href': 'http...   \n",
      "\n",
      "                                       author_detail  \\\n",
      "0  {'name': '/u/DairyFarmerOnCrack', 'href': 'htt...   \n",
      "1  {'name': '/u/McCree114', 'href': 'https://www....   \n",
      "2  {'name': '/u/71kangaroo', 'href': 'https://www...   \n",
      "3  {'name': '/u/SoDakZak', 'href': 'https://www.r...   \n",
      "4  {'name': '/u/WhileFalseRepeat', 'href': 'https...   \n",
      "\n",
      "                                             href                 author  \\\n",
      "0  https://www.reddit.com/user/DairyFarmerOnCrack  /u/DairyFarmerOnCrack   \n",
      "1           https://www.reddit.com/user/McCree114           /u/McCree114   \n",
      "2          https://www.reddit.com/user/71kangaroo          /u/71kangaroo   \n",
      "3            https://www.reddit.com/user/SoDakZak            /u/SoDakZak   \n",
      "4    https://www.reddit.com/user/WhileFalseRepeat    /u/WhileFalseRepeat   \n",
      "\n",
      "                                                tags  \\\n",
      "0  [{'term': 'news', 'scheme': None, 'label': 'r/...   \n",
      "1  [{'term': 'news', 'scheme': None, 'label': 'r/...   \n",
      "2  [{'term': 'news', 'scheme': None, 'label': 'r/...   \n",
      "3  [{'term': 'news', 'scheme': None, 'label': 'r/...   \n",
      "4  [{'term': 'news', 'scheme': None, 'label': 'r/...   \n",
      "\n",
      "                                             content  \\\n",
      "0  [{'type': 'text/html', 'language': None, 'base...   \n",
      "1  [{'type': 'text/html', 'language': None, 'base...   \n",
      "2  [{'type': 'text/html', 'language': None, 'base...   \n",
      "3  [{'type': 'text/html', 'language': None, 'base...   \n",
      "4  [{'type': 'text/html', 'language': None, 'base...   \n",
      "\n",
      "                                             summary  \\\n",
      "0  &#32; submitted by &#32; <a href=\"https://www....   \n",
      "1  &#32; submitted by &#32; <a href=\"https://www....   \n",
      "2  &#32; submitted by &#32; <a href=\"https://www....   \n",
      "3  &#32; submitted by &#32; <a href=\"https://www....   \n",
      "4  &#32; submitted by &#32; <a href=\"https://www....   \n",
      "\n",
      "                                         id  guidislink  \\\n",
      "0  https://www.reddit.com/r/news/t3_1dbj2g7        True   \n",
      "1  https://www.reddit.com/r/news/t3_1dbeuub        True   \n",
      "2  https://www.reddit.com/r/news/t3_1dboykr        True   \n",
      "3  https://www.reddit.com/r/news/t3_1dbisfi        True   \n",
      "4  https://www.reddit.com/r/news/t3_1dbgfws        True   \n",
      "\n",
      "                                                link  \\\n",
      "0  https://www.reddit.com/r/news/comments/1dbj2g7...   \n",
      "1  https://www.reddit.com/r/news/comments/1dbeuub...   \n",
      "2  https://www.reddit.com/r/news/comments/1dboykr...   \n",
      "3  https://www.reddit.com/r/news/comments/1dbisfi...   \n",
      "4  https://www.reddit.com/r/news/comments/1dbgfws...   \n",
      "\n",
      "                                               links  \\\n",
      "0  [{'href': 'https://www.reddit.com/r/news/comme...   \n",
      "1  [{'href': 'https://www.reddit.com/r/news/comme...   \n",
      "2  [{'href': 'https://www.reddit.com/r/news/comme...   \n",
      "3  [{'href': 'https://www.reddit.com/r/news/comme...   \n",
      "4  [{'href': 'https://www.reddit.com/r/news/comme...   \n",
      "\n",
      "                     updated                       updated_parsed  \\\n",
      "0  2024-06-09T02:17:57+00:00   (2024, 6, 9, 2, 17, 57, 6, 161, 0)   \n",
      "1  2024-06-08T22:42:35+00:00  (2024, 6, 8, 22, 42, 35, 5, 160, 0)   \n",
      "2  2024-06-09T08:25:14+00:00   (2024, 6, 9, 8, 25, 14, 6, 161, 0)   \n",
      "3  2024-06-09T02:03:02+00:00     (2024, 6, 9, 2, 3, 2, 6, 161, 0)   \n",
      "4  2024-06-08T23:59:06+00:00   (2024, 6, 8, 23, 59, 6, 5, 160, 0)   \n",
      "\n",
      "                   published                     published_parsed  \\\n",
      "0  2024-06-09T02:17:57+00:00   (2024, 6, 9, 2, 17, 57, 6, 161, 0)   \n",
      "1  2024-06-08T22:42:35+00:00  (2024, 6, 8, 22, 42, 35, 5, 160, 0)   \n",
      "2  2024-06-09T08:25:14+00:00   (2024, 6, 9, 8, 25, 14, 6, 161, 0)   \n",
      "3  2024-06-09T02:03:02+00:00     (2024, 6, 9, 2, 3, 2, 6, 161, 0)   \n",
      "4  2024-06-08T23:59:06+00:00   (2024, 6, 8, 23, 59, 6, 5, 160, 0)   \n",
      "\n",
      "                                               title  \\\n",
      "0  Carbon dioxide levels in the atmosphere are su...   \n",
      "1  Phoenix turns to ice-filled body bags to treat...   \n",
      "2  Michael Mosley: body found in search for missi...   \n",
      "3  Purported neo-Nazis rally at South Dakota Stat...   \n",
      "4  Vancouver's nude beach users decry removal of ...   \n",
      "\n",
      "                                        title_detail  \n",
      "0  {'type': 'text/plain', 'language': None, 'base...  \n",
      "1  {'type': 'text/plain', 'language': None, 'base...  \n",
      "2  {'type': 'text/plain', 'language': None, 'base...  \n",
      "3  {'type': 'text/plain', 'language': None, 'base...  \n",
      "4  {'type': 'text/plain', 'language': None, 'base...  \n"
     ]
    }
   ],
   "source": [
    "\n",
    "df = pd.DataFrame(reddit['entries'])\n",
    "\n",
    "print(df.head())"
   ]
  },
  {
   "cell_type": "markdown",
   "metadata": {},
   "source": [
    "### 10. Count the number of entries per author and sort them in descending order."
   ]
  },
  {
   "cell_type": "code",
   "execution_count": 17,
   "metadata": {},
   "outputs": [
    {
     "name": "stdout",
     "output_type": "stream",
     "text": [
      "author\n",
      "/u/AudibleNod             3\n",
      "/u/WhileFalseRepeat       2\n",
      "/u/71kangaroo             1\n",
      "/u/SoDakZak               1\n",
      "/u/outofnowherewoof       1\n",
      "/u/julia_is_dead          1\n",
      "/u/theluckyfrog           1\n",
      "/u/SgtDonnyDonowitz666    1\n",
      "/u/FrostyMcChill          1\n",
      "/u/McCree114              1\n",
      "/u/Coondiggety            1\n",
      "/u/phrozen_waffles        1\n",
      "/u/CarFlipJudge           1\n",
      "/u/zinky30                1\n",
      "/u/PelagicPenguin9000     1\n",
      "/u/Alien_P3rsp3ktiv       1\n",
      "/u/Miguenzo               1\n",
      "/u/Superbuddhapunk        1\n",
      "/u/Mentirosa              1\n",
      "/u/JuDGe3690              1\n",
      "/u/DairyFarmerOnCrack     1\n",
      "/u/Cloaked42m             1\n",
      "Name: count, dtype: int64\n"
     ]
    }
   ],
   "source": [
    "# Contar el número de entradas por autor\n",
    "entries_por_autor = df['author'].value_counts()\n",
    "\n",
    "# Ordenar en orden descendente\n",
    "entries_por_autor = entries_por_autor.sort_values(ascending=False)\n",
    "\n",
    "\n",
    "print(entries_por_autor)\n"
   ]
  },
  {
   "cell_type": "markdown",
   "metadata": {},
   "source": [
    "### 11. Add a new column to the data frame that contains the length (number of characters) of each entry title. Return a data frame that contains the title, author, and title length of each entry in descending order (longest title length at the top)."
   ]
  },
  {
   "cell_type": "code",
   "execution_count": 23,
   "metadata": {},
   "outputs": [
    {
     "name": "stdout",
     "output_type": "stream",
     "text": [
      "                                                title                  author  \\\n",
      "0   Carbon dioxide levels in the atmosphere are su...   /u/DairyFarmerOnCrack   \n",
      "21  U.S. Coast Guard seizes over $63 million worth...      /u/Superbuddhapunk   \n",
      "12  Former astronaut William Anders, who took icon...            /u/JuDGe3690   \n",
      "22  Connecticut town to pay $100K to settle lawsui...            /u/Mentirosa   \n",
      "15  Bag of cash doesn’t stop jurors from convictin...           /u/AudibleNod   \n",
      "24  Vermont police department apologizes after vis...           /u/Cloaked42m   \n",
      "7   Oregon closes more coastal shellfish harvestin...         /u/theluckyfrog   \n",
      "8   New Mexico Police Arrest An 11-Year-Old Boy On...  /u/SgtDonnyDonowitz666   \n",
      "16  Man, 71, arrested after LAPD finds nearly 3,00...              /u/zinky30   \n",
      "5   Four hostages rescued from Gaza, as hospitals ...     /u/outofnowherewoof   \n",
      "17  Rare Brown Booby bird sighting in southern Ind...   /u/PelagicPenguin9000   \n",
      "20  Jobs report blows past expectations, displayin...           /u/AudibleNod   \n",
      "1   Phoenix turns to ice-filled body bags to treat...            /u/McCree114   \n",
      "18  Netflix to fight $170 million damages claim ov...     /u/Alien_P3rsp3ktiv   \n",
      "13  US Supreme Court justices disclose Bali hotel ...      /u/phrozen_waffles   \n",
      "3   Purported neo-Nazis rally at South Dakota Stat...             /u/SoDakZak   \n",
      "10  Israel says 4 hostages, including Noa Argamani...        /u/FrostyMcChill   \n",
      "14  Pat Sajak takes final spin as host on 'Wheel o...         /u/CarFlipJudge   \n",
      "23  Three Americans in alleged coup attempt appear...     /u/WhileFalseRepeat   \n",
      "11  Scientists map one of Earth’s top hazards in t...          /u/Coondiggety   \n",
      "6   Cleveland Mississippi Country Club refuses wom...        /u/julia_is_dead   \n",
      "19  Russian navy vessels to dock in Havana, Cuba i...             /u/Miguenzo   \n",
      "4   Vancouver's nude beach users decry removal of ...     /u/WhileFalseRepeat   \n",
      "2   Michael Mosley: body found in search for missi...           /u/71kangaroo   \n",
      "9    The Army-Navy Gaza aid pier is back in the beach           /u/AudibleNod   \n",
      "\n",
      "    title_length  \n",
      "0            128  \n",
      "21           101  \n",
      "12           100  \n",
      "22            99  \n",
      "15            98  \n",
      "24            96  \n",
      "7             87  \n",
      "8             87  \n",
      "16            85  \n",
      "5             82  \n",
      "17            81  \n",
      "20            80  \n",
      "1             80  \n",
      "18            79  \n",
      "13            79  \n",
      "3             76  \n",
      "10            73  \n",
      "14            71  \n",
      "23            70  \n",
      "11            66  \n",
      "6             63  \n",
      "19            62  \n",
      "4             60  \n",
      "2             58  \n",
      "9             48  \n"
     ]
    }
   ],
   "source": [
    "# Agregar una nueva columna con la longitud de los títulos\n",
    "df['title_length'] = df['title'].apply(lambda x: len(x))\n",
    "\n",
    "# Seleccionar las columnas requeridas y ordenar en orden descendente por longitud del título\n",
    "df_resultado = df[['title', 'author', 'title_length']].sort_values(by='title_length', ascending=False)\n",
    "\n",
    "\n",
    "print(df_resultado)\n"
   ]
  },
  {
   "cell_type": "markdown",
   "metadata": {},
   "source": [
    "### 12. Create a list of entry titles whose summary includes the phrase \"machine learning.\""
   ]
  },
  {
   "cell_type": "code",
   "execution_count": null,
   "metadata": {},
   "outputs": [],
   "source": []
  }
 ],
 "metadata": {
  "kernelspec": {
   "display_name": "Python 3 (ipykernel)",
   "language": "python",
   "name": "python3"
  },
  "language_info": {
   "codemirror_mode": {
    "name": "ipython",
    "version": 3
   },
   "file_extension": ".py",
   "mimetype": "text/x-python",
   "name": "python",
   "nbconvert_exporter": "python",
   "pygments_lexer": "ipython3",
   "version": "3.11.5"
  }
 },
 "nbformat": 4,
 "nbformat_minor": 2
}
